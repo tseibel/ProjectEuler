{
 "cells": [
  {
   "cell_type": "code",
   "execution_count": 10,
   "metadata": {},
   "outputs": [
    {
     "name": "stdout",
     "output_type": "stream",
     "text": [
      "338350 25502500 25164150\n"
     ]
    }
   ],
   "source": [
    "#print the difference between sum of squares and the square of sums\n",
    "sum_square = 0\n",
    "square_sum = 0\n",
    "sum = 0\n",
    "for i in range(0,101):\n",
    "    sum = sum + i\n",
    "    sum_square = sum_square + i*i\n",
    "    square_sum = sum*sum\n",
    "    \n",
    "print(sum_square, square_sum, square_sum - sum_square)"
   ]
  },
  {
   "cell_type": "code",
   "execution_count": null,
   "metadata": {},
   "outputs": [],
   "source": []
  }
 ],
 "metadata": {
  "kernelspec": {
   "display_name": "Python 3",
   "language": "python",
   "name": "python3"
  },
  "language_info": {
   "codemirror_mode": {
    "name": "ipython",
    "version": 3
   },
   "file_extension": ".py",
   "mimetype": "text/x-python",
   "name": "python",
   "nbconvert_exporter": "python",
   "pygments_lexer": "ipython3",
   "version": "3.7.1"
  }
 },
 "nbformat": 4,
 "nbformat_minor": 2
}
