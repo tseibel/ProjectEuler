{
 "cells": [
  {
   "cell_type": "code",
   "execution_count": 62,
   "metadata": {},
   "outputs": [
    {
     "name": "stdout",
     "output_type": "stream",
     "text": [
      "906609\n"
     ]
    }
   ],
   "source": [
    "#prints every palindrome made by two 3 digit numbers :D\n",
    "max = 0\n",
    "index = 100\n",
    "#creating all numbers require for checking\n",
    "for i in range(100,1000):\n",
    "    for j in range (i,1000):\n",
    "        number = i * j\n",
    "#turns current number into a strin\n",
    "        num = str(number)\n",
    "#length of the current number\n",
    "        length = int(len(num))//2\n",
    "#takes length of the current number and divides it(without remainder)\n",
    "        count = 0\n",
    "        for k in range(0,length):\n",
    "            first = num[k]\n",
    "            last = num[-k - 1]\n",
    "            if first != last:\n",
    "                count = count + 1\n",
    "        if count == 0:\n",
    "            if int(num) > max:\n",
    "                max = int(num)\n",
    "print(max, \"Got It :P)\n",
    "            \n",
    "            \n",
    "        \n",
    "        \n",
    "        "
   ]
  },
  {
   "cell_type": "code",
   "execution_count": 36,
   "metadata": {},
   "outputs": [
    {
     "name": "stdout",
     "output_type": "stream",
     "text": [
      "5 5\n"
     ]
    }
   ],
   "source": []
  },
  {
   "cell_type": "code",
   "execution_count": null,
   "metadata": {},
   "outputs": [],
   "source": []
  }
 ],
 "metadata": {
  "kernelspec": {
   "display_name": "Python 3",
   "language": "python",
   "name": "python3"
  },
  "language_info": {
   "codemirror_mode": {
    "name": "ipython",
    "version": 3
   },
   "file_extension": ".py",
   "mimetype": "text/x-python",
   "name": "python",
   "nbconvert_exporter": "python",
   "pygments_lexer": "ipython3",
   "version": "3.7.1"
  }
 },
 "nbformat": 4,
 "nbformat_minor": 2
}
