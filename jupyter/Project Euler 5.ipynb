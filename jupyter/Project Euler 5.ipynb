{
 "cells": [
  {
   "cell_type": "code",
   "execution_count": 37,
   "metadata": {},
   "outputs": [
    {
     "name": "stdout",
     "output_type": "stream",
     "text": [
      "232792560\n"
     ]
    }
   ],
   "source": [
    "#smallest positive number that is evenly divisible by all of the numbers from 1 to 20\n",
    "\n",
    "#Current Value\n",
    "count = 20\n",
    "x = 5\n",
    "#Checks Divisibility\n",
    "while x == 5:\n",
    "    check = 0\n",
    "    for i in range(11,21):\n",
    "        if count%i !=0:\n",
    "            check = check + 10\n",
    "        if check > 0:\n",
    "            continue\n",
    "    if check == 0:\n",
    "        x = 0\n",
    "        print(count)\n",
    "    count = count + 20"
   ]
  },
  {
   "cell_type": "code",
   "execution_count": null,
   "metadata": {},
   "outputs": [],
   "source": []
  }
 ],
 "metadata": {
  "kernelspec": {
   "display_name": "Python 3",
   "language": "python",
   "name": "python3"
  },
  "language_info": {
   "codemirror_mode": {
    "name": "ipython",
    "version": 3
   },
   "file_extension": ".py",
   "mimetype": "text/x-python",
   "name": "python",
   "nbconvert_exporter": "python",
   "pygments_lexer": "ipython3",
   "version": "3.7.1"
  }
 },
 "nbformat": 4,
 "nbformat_minor": 2
}
